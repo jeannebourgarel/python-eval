{
 "cells": [
  {
   "cell_type": "markdown",
   "metadata": {},
   "source": [
    "# Evaluation Python avancé"
   ]
  },
  {
   "cell_type": "markdown",
   "metadata": {},
   "source": [
    "## Partie 1 : Algorithme de Needleman-Wunsch"
   ]
  },
  {
   "cell_type": "code",
   "execution_count": 1,
   "metadata": {},
   "outputs": [],
   "source": [
    "from colorama import Fore, Style\n",
    "\n",
    "def red_text(text):\n",
    "    return f\"{Fore.RED}{text}{Style.RESET_ALL}\" # permet d'afficher du texte en rouge"
   ]
  },
  {
   "cell_type": "markdown",
   "metadata": {},
   "source": [
    "### Classe Ruler"
   ]
  },
  {
   "cell_type": "code",
   "execution_count": 2,
   "metadata": {},
   "outputs": [],
   "source": [
    "class Ruler :\n",
    "    \"\"\"classe d'objets constitués de 2 chaînes de caractères pouvant être comparées entre elles\"\"\"\n",
    "    def __init__(self, chaine_1, chaine_2) :\n",
    "        self.chaine_1 = chaine_1\n",
    "        self.chaine_2 = chaine_2\n",
    "        self.matrice = [[]]\n",
    "        self.alignement_1 = ''\n",
    "        self.alignement_2 = ''\n",
    "    \n",
    "    def compute(self) :\n",
    "        \"\"\"cette méthode  permet de déterminer les alignements obtenus à partir des chaînes de caractères du Ruler qui minimisent la distance\"\"\"\n",
    "        chaine_1 = self.chaine_1\n",
    "        chaine_2 = self.chaine_2\n",
    "        a = len(chaine_1)\n",
    "        b = len(chaine_2)\n",
    "        s = [[1 for j in range(b)] for i in range(a)] # s est la matrice des coûts : une insertion, substitution ou suppression a un coût de 1\n",
    "        for i in range(a) :\n",
    "            for j in range(b) :\n",
    "                if chaine_1[i] == chaine_2[j] :\n",
    "                    s[i][j] = 0 #si deux lettres sont identiques : coût de 0\n",
    "        F = [[0 for j in range(b+1)] for i in range(a+1)] #la matrice F est la matrice des scores : c'est elle qui va permettre de déterminer l'alignement de distance minimale \n",
    "        for i in range(a+1) :\n",
    "            F[i][0] = i\n",
    "        for j in range(b+1) :\n",
    "            F[0][j] = j\n",
    "        for i in range(1, a+1) :\n",
    "            for j in range(1, b+1) :\n",
    "                F[i][j] = min(F[i-1][j-1] + s[i-1][j-1], F[i][j-1] + 1, F[i-1][j] + 1) #le premier terme est le score d'une substitution, le deuxième celui d'une insertion, le dernier celui d'une suppression\n",
    "        alignement_1 = ''\n",
    "        alignement_2 = ''\n",
    "        i = a\n",
    "        j = b\n",
    "        while i > 0 and j > 0 : # on \"remonte\" la matrice F pour déterminer l'alignement de distance minimale\n",
    "            score = F[i][j]\n",
    "            score_up = F[i-1][j]\n",
    "            score_left = F[i][j-1]\n",
    "            score_diag = F[i-1][j-1]\n",
    "            if score == score_up + 1 : #suppression de la lettre chaine_1[i-1] dans chaine_2\n",
    "                alignement_1 = chaine_1[i-1] + alignement_1\n",
    "                alignement_2 = '-' + alignement_2\n",
    "                i = i-1\n",
    "            elif score == score_left + 1 : #insertion dans chaine_2 d'une nouvelle lettre\n",
    "                alignement_1 = '-' + alignement_1\n",
    "                alignement_2 = chaine_2[j-1] + alignement_2\n",
    "                j = j-1\n",
    "            else : # substitution\n",
    "                alignement_1 = chaine_1[i-1] + alignement_1\n",
    "                alignement_2 = chaine_2[j-1] + alignement_2\n",
    "                j = j-1\n",
    "                i = i-1\n",
    "        while i >= 1 : #si on a finit de parcourir la chaîne 2 mais qu'il rest des lettres de la chaîne 1\n",
    "            alignement_1 = chaine_1[i-1] + alignement_1\n",
    "            alignement_2 = '-' + alignement_2\n",
    "            i = i-1\n",
    "        while j >= 1 : # c'est l'inverse : si la chaîne 1 est plus petite que la chaîne 2\n",
    "            alignement_1 = '-' + alignement_1\n",
    "            alignement_2 = chaine_2[j-1] + alignement_2\n",
    "            j = j-1\n",
    "        self.matrice = F\n",
    "        self.alignement_1 = alignement_1\n",
    "        self.alignement_2 = alignement_2\n",
    "    \n",
    "    def distance(self) :\n",
    "        \"\"\"la distance est directement donnée par le terme en bas à droite de la matrice : on somme successivement les coûts minimaux\"\"\"\n",
    "        return self.matrice[len(self.chaine_1)][len(self.chaine_2)]\n",
    "    \n",
    "    def report(self) :\n",
    "        \"\"\"cette fonction permet d'afficher les deux alignements obtenus, en metant en rouge les différences, de façon à faciliter leur comparaison\"\"\"\n",
    "        alignement_1 = self.alignement_1\n",
    "        alignement_2 = self.alignement_2\n",
    "        a1 = ''\n",
    "        a2 = ''\n",
    "        for i in range(len(alignement_1)) :\n",
    "            a = alignement_1[i]\n",
    "            b = alignement_2[i]\n",
    "            if a != b :\n",
    "                a1 = f\"{a1}{red_text(a)}\"\n",
    "                a2 = f\"{a2}{red_text(b)}\"\n",
    "            else :\n",
    "                a1 = f\"{a1}{a}\"\n",
    "                a2 = f\"{a2}{b}\"\n",
    "        print (a1, a2)"
   ]
  },
  {
   "cell_type": "markdown",
   "metadata": {},
   "source": [
    "#### Test de la classe"
   ]
  },
  {
   "cell_type": "code",
   "execution_count": 22,
   "metadata": {},
   "outputs": [],
   "source": [
    "c1 = \"abcd\"\n",
    "c2 ='acd'\n",
    "c3 ='aabcd'   \n",
    "ruler = Ruler(c2, c3)\n",
    "ruler.compute()"
   ]
  },
  {
   "cell_type": "code",
   "execution_count": 23,
   "metadata": {},
   "outputs": [
    {
     "name": "stdout",
     "output_type": "stream",
     "text": [
      "distance = 2\n"
     ]
    }
   ],
   "source": [
    "print(f\"distance = {ruler.distance()}\")"
   ]
  },
  {
   "cell_type": "code",
   "execution_count": 24,
   "metadata": {},
   "outputs": [
    {
     "name": "stdout",
     "output_type": "stream",
     "text": [
      "a\u001b[31m-\u001b[0m\u001b[31m-\u001b[0mcd a\u001b[31ma\u001b[0m\u001b[31mb\u001b[0mcd\n"
     ]
    }
   ],
   "source": [
    "ruler.report()"
   ]
  },
  {
   "cell_type": "markdown",
   "metadata": {},
   "source": [
    "### Module Bundle"
   ]
  },
  {
   "cell_type": "code",
   "execution_count": 7,
   "metadata": {},
   "outputs": [],
   "source": [
    "fichier = open(r'C:\\Users\\Jeanne\\Documents\\DATASET.txt', 'r')\n",
    "contenu = fichier.read()"
   ]
  },
  {
   "cell_type": "code",
   "execution_count": 9,
   "metadata": {},
   "outputs": [
    {
     "name": "stdout",
     "output_type": "stream",
     "text": [
      "['abcdefg', 'qbcdefh', 'ACGT', 'ACCT', 'ade']\n",
      "=== exemple #1 - distance = 2\n",
      "\u001b[31ma\u001b[0mbcdef\u001b[31mg\u001b[0m \u001b[31mq\u001b[0mbcdef\u001b[31mh\u001b[0m\n",
      "=== exemple #2 - distance = 1\n",
      "AC\u001b[31mG\u001b[0mT AC\u001b[31mC\u001b[0mT\n"
     ]
    }
   ],
   "source": [
    "L = []\n",
    "with open(r'C:\\Users\\Jeanne\\Documents\\DATASET.txt', 'r') as fichier :\n",
    "    for line in fichier :\n",
    "        L.append(line.strip())\n",
    "    print(L)\n",
    "n = len(L)\n",
    "for k in range(0, n - 1, 2) :\n",
    "    ruler = Ruler(L[k], L[k + 1])\n",
    "    ruler.compute()\n",
    "    print(f\"=== exemple #{k//2 + 1} - distance = {ruler.distance()}\")\n",
    "    ruler.report()"
   ]
  },
  {
   "cell_type": "code",
   "execution_count": 10,
   "metadata": {},
   "outputs": [
    {
     "name": "stderr",
     "output_type": "stream",
     "text": [
      "usage: ipykernel_launcher.py [-h] fichier\n",
      "ipykernel_launcher.py: error: unrecognized arguments: -f\n"
     ]
    },
    {
     "ename": "SystemExit",
     "evalue": "2",
     "output_type": "error",
     "traceback": [
      "An exception has occurred, use %tb to see the full traceback.\n",
      "\u001b[1;31mSystemExit\u001b[0m\u001b[1;31m:\u001b[0m 2\n"
     ]
    },
    {
     "name": "stderr",
     "output_type": "stream",
     "text": [
      "c:\\users\\jeanne\\miniconda3\\lib\\site-packages\\IPython\\core\\interactiveshell.py:3334: UserWarning: To exit: use 'exit', 'quit', or Ctrl-D.\n",
      "  warn(\"To exit: use 'exit', 'quit', or Ctrl-D.\", stacklevel=1)\n"
     ]
    }
   ],
   "source": [
    "from argparse import ArgumentParser\n",
    "#from needlemann_wunsch import Ruler\n",
    "parser = ArgumentParser()\n",
    "parser.add_argument(\"fichier\", help = \"le nom du fichier\")\n",
    "args = parser.parse_args()\n",
    "\n",
    "with open(args.fichier, 'r') as f :\n",
    "    L = []\n",
    "    for line in f :\n",
    "        L.append(line.strip())\n",
    "    n = len(L)\n",
    "for k in range(0, n - 1, 2) :\n",
    "    ruler = Ruler(L[k], L[k + 1])\n",
    "    ruler.compute()\n",
    "    print(f\"=== exemple #{k//2 + 1} - distance = {ruler.distance()}\")\n",
    "    ruler.report()"
   ]
  },
  {
   "cell_type": "markdown",
   "metadata": {},
   "source": [
    "## Partie 2 : Codage de Huffman"
   ]
  },
  {
   "cell_type": "code",
   "execution_count": 14,
   "metadata": {},
   "outputs": [],
   "source": [
    "class TreeBuilder :\n",
    "    def __init__(self, text) :\n",
    "        self.text = text\n",
    "    \n",
    "    def tree(self) :\n",
    "        text = self.text\n",
    "        occurences = {a : text.count(a) for a in text} #dictionnaire ou liste\n",
    "        lettres = sorted(occurences.items(), key = lambda t : t[1])\n",
    "        lettres = [x for (x,y) in lettres] # liste des lettres triée par ordre croissant d'occurrences\n",
    "        m = occurences[lettres[0]] # arbre : [[gauche : 0],[droite : 1 ],'abc', 26] par ex\n",
    "        ligne_sup = []\n",
    "        while m < len(text) :\n",
    "            ligne_inf = ligne_sup[:]\n",
    "            ligne_sup=[]\n",
    "            if lettres != [] :\n",
    "                a = lettres.pop(0)\n",
    "                x = occurences[a]\n",
    "                while x <= m and lettres != [] :\n",
    "                    ligne_inf.append([[],[], a, x])\n",
    "                    a = lettres.pop(0)\n",
    "                    x = occurences[a]\n",
    "                if len(ligne_inf)%2 == 1 :\n",
    "                    ligne_inf.append([[], [], a, x])\n",
    "                else :\n",
    "                    lettres = [a] + lettres   # à vérifier\n",
    "            long = len(ligne_inf)\n",
    "            if long > 1 :\n",
    "                for i in range(0, long - 1, 2) :\n",
    "                    gauche = ligne_inf[i]\n",
    "                    droite = ligne_inf[i+1]\n",
    "                    ligne_sup.append([gauche, droite, gauche[2] + droite[2], gauche[3] + droite[3]])\n",
    "                if long%2 == 1 :\n",
    "                    ligne_sup.append(ligne_inf[-1])\n",
    "            m = max([l[3] for l in ligne_sup])\n",
    "        return ligne_sup[0]"
   ]
  },
  {
   "cell_type": "code",
   "execution_count": 15,
   "metadata": {},
   "outputs": [],
   "source": [
    "class Codec :\n",
    "    def __init__(self, tree) :\n",
    "        self.tree = tree\n",
    "    \n",
    "    def encode(self, text) :\n",
    "        res = ''\n",
    "        tree = self.tree\n",
    "        for a in text :\n",
    "            if a not in tree[2] :\n",
    "                return 'incodable'\n",
    "            else :\n",
    "                L = tree[:]\n",
    "                while len(L[2]) > 1 :\n",
    "                    gauche, droite = L[0], L[1]\n",
    "                    if a in gauche[2] :\n",
    "                        res = res + '0'\n",
    "                        L = L[0]\n",
    "                    else :\n",
    "                        res = res + '1'\n",
    "                        L = L[1]\n",
    "        return res\n",
    "    \n",
    "    def decode(self, code) :\n",
    "        res = ''\n",
    "        tree = self.tree\n",
    "        k = 0\n",
    "        L = tree[:]\n",
    "        while k < len(code) :\n",
    "            i = eval(code[k])\n",
    "            L = L[i]\n",
    "            if len(L[2]) == 1 :\n",
    "                res += (L[2])\n",
    "                L = tree[:]\n",
    "            k += 1\n",
    "        return res"
   ]
  },
  {
   "cell_type": "code",
   "execution_count": 18,
   "metadata": {},
   "outputs": [
    {
     "name": "stdout",
     "output_type": "stream",
     "text": [
      "binary_tree = [[[[[[[[], [], 'n', 1], [[], [], 'v', 1], 'nv', 2], [[[], [], 'é', 1], [[], [], 'f', 1], 'éf', 2], 'nvéf', 4], [[[[], [], 'q', 1], [[], [], 'u', 1], 'qu', 2], [[[], [], 'l', 1], [[], [], 'g', 1], 'lg', 2], 'qulg', 4], 'nvéfqulg', 8], [[[[], [], 'o', 2], [[], [], 'c', 2], 'oc', 4], [[[], [], 't', 2], [[], [], 'a', 2], 'ta', 4], 'octa', 8], 'nvéfqulgocta', 16], [[[[[], [], 'h', 2], [[], [], 'm', 2], 'hm', 4], [[], [], 'r', 3], 'hmr', 7], [[[], [], 'i', 3], [[], [], ' ', 5], 'i ', 8], 'hmri ', 15], 'nvéfqulgoctahmri ', 31], [[], [], 'e', 5], 'nvéfqulgoctahmri e', 36]\n"
     ]
    }
   ],
   "source": [
    "text = 'on vérifie que cet algorithme marche'\n",
    "arbre = TreeBuilder(text)\n",
    "binary_tree = arbre.tree()\n",
    "print(f\"binary_tree = {binary_tree}\")"
   ]
  },
  {
   "cell_type": "code",
   "execution_count": 20,
   "metadata": {},
   "outputs": [
    {
     "name": "stdout",
     "output_type": "stream",
     "text": [
      "texte codé = 0010000000001110000010000100101011000001101101011100010000010110111001011001100111001110001100001110010001010110001100100001001101110100100111010100101010001\n",
      "texte d'origine = on vérifie que cet algorithme marche\n",
      "texte décodé = on vérifie que cet algorithme marche\n"
     ]
    }
   ],
   "source": [
    "codec = Codec(binary_tree)\n",
    "encoded = codec.encode(text)\n",
    "decoded = codec.decode(encoded)\n",
    "print (f\"texte codé = {encoded}\")\n",
    "print(f\"texte d'origine = {text}\")\n",
    "print(f\"texte décodé = {decoded}\")"
   ]
  },
  {
   "cell_type": "code",
   "execution_count": 21,
   "metadata": {},
   "outputs": [
    {
     "data": {
      "text/plain": [
       "True"
      ]
     },
     "execution_count": 21,
     "metadata": {},
     "output_type": "execute_result"
    }
   ],
   "source": [
    "text == decoded"
   ]
  }
 ],
 "metadata": {
  "kernelspec": {
   "display_name": "Python 3",
   "language": "python",
   "name": "python3"
  },
  "language_info": {
   "codemirror_mode": {
    "name": "ipython",
    "version": 3
   },
   "file_extension": ".py",
   "mimetype": "text/x-python",
   "name": "python",
   "nbconvert_exporter": "python",
   "pygments_lexer": "ipython3",
   "version": "3.6.3"
  }
 },
 "nbformat": 4,
 "nbformat_minor": 2
}
